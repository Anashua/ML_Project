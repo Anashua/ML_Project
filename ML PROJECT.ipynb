{
 "cells": [
  {
   "cell_type": "code",
   "execution_count": 3,
   "id": "sustainable-percentage",
   "metadata": {},
   "outputs": [],
   "source": [
    "import numpy as np\n",
    "import pandas as pd\n",
    "from sklearn.model_selection import train_test_split\n",
    "from sklearn import preprocessing, svm"
   ]
  },
  {
   "cell_type": "code",
   "execution_count": 4,
   "id": "gross-productivity",
   "metadata": {},
   "outputs": [
    {
     "output_type": "execute_result",
     "data": {
      "text/plain": [
       "      Area  Perimeter  Compactness  Length of kernel  Width of kernel  \\\n",
       "1    15.26      14.84       0.8710             5.763            3.312   \n",
       "2    14.88      14.57       0.8811             5.554            3.333   \n",
       "3    14.29      14.09       0.9050             5.291            3.337   \n",
       "4    13.84      13.94       0.8955             5.324            3.379   \n",
       "5    16.14      14.99       0.9034             5.658            3.562   \n",
       "..     ...        ...          ...               ...              ...   \n",
       "206  12.19      13.20       0.8783             5.137            2.981   \n",
       "207  11.23      12.88       0.8511             5.140            2.795   \n",
       "208  13.20      13.66       0.8883             5.236            3.232   \n",
       "209  11.84      13.21       0.8521             5.175            2.836   \n",
       "210  12.30      13.34       0.8684             5.243            2.974   \n",
       "\n",
       "     Asymmetry coefficient  Length of kernel groove  Variety of wheat  \n",
       "1                    2.221                    5.220                 1  \n",
       "2                    1.018                    4.956                 1  \n",
       "3                    2.699                    4.825                 1  \n",
       "4                    2.259                    4.805                 1  \n",
       "5                    1.355                    5.175                 1  \n",
       "..                     ...                      ...               ...  \n",
       "206                  3.631                    4.870                 3  \n",
       "207                  4.325                    5.003                 3  \n",
       "208                  8.315                    5.056                 3  \n",
       "209                  3.598                    5.044                 3  \n",
       "210                  5.637                    5.063                 3  \n",
       "\n",
       "[210 rows x 8 columns]"
      ],
      "text/html": "<div>\n<style scoped>\n    .dataframe tbody tr th:only-of-type {\n        vertical-align: middle;\n    }\n\n    .dataframe tbody tr th {\n        vertical-align: top;\n    }\n\n    .dataframe thead th {\n        text-align: right;\n    }\n</style>\n<table border=\"1\" class=\"dataframe\">\n  <thead>\n    <tr style=\"text-align: right;\">\n      <th></th>\n      <th>Area</th>\n      <th>Perimeter</th>\n      <th>Compactness</th>\n      <th>Length of kernel</th>\n      <th>Width of kernel</th>\n      <th>Asymmetry coefficient</th>\n      <th>Length of kernel groove</th>\n      <th>Variety of wheat</th>\n    </tr>\n  </thead>\n  <tbody>\n    <tr>\n      <th>1</th>\n      <td>15.26</td>\n      <td>14.84</td>\n      <td>0.8710</td>\n      <td>5.763</td>\n      <td>3.312</td>\n      <td>2.221</td>\n      <td>5.220</td>\n      <td>1</td>\n    </tr>\n    <tr>\n      <th>2</th>\n      <td>14.88</td>\n      <td>14.57</td>\n      <td>0.8811</td>\n      <td>5.554</td>\n      <td>3.333</td>\n      <td>1.018</td>\n      <td>4.956</td>\n      <td>1</td>\n    </tr>\n    <tr>\n      <th>3</th>\n      <td>14.29</td>\n      <td>14.09</td>\n      <td>0.9050</td>\n      <td>5.291</td>\n      <td>3.337</td>\n      <td>2.699</td>\n      <td>4.825</td>\n      <td>1</td>\n    </tr>\n    <tr>\n      <th>4</th>\n      <td>13.84</td>\n      <td>13.94</td>\n      <td>0.8955</td>\n      <td>5.324</td>\n      <td>3.379</td>\n      <td>2.259</td>\n      <td>4.805</td>\n      <td>1</td>\n    </tr>\n    <tr>\n      <th>5</th>\n      <td>16.14</td>\n      <td>14.99</td>\n      <td>0.9034</td>\n      <td>5.658</td>\n      <td>3.562</td>\n      <td>1.355</td>\n      <td>5.175</td>\n      <td>1</td>\n    </tr>\n    <tr>\n      <th>...</th>\n      <td>...</td>\n      <td>...</td>\n      <td>...</td>\n      <td>...</td>\n      <td>...</td>\n      <td>...</td>\n      <td>...</td>\n      <td>...</td>\n    </tr>\n    <tr>\n      <th>206</th>\n      <td>12.19</td>\n      <td>13.20</td>\n      <td>0.8783</td>\n      <td>5.137</td>\n      <td>2.981</td>\n      <td>3.631</td>\n      <td>4.870</td>\n      <td>3</td>\n    </tr>\n    <tr>\n      <th>207</th>\n      <td>11.23</td>\n      <td>12.88</td>\n      <td>0.8511</td>\n      <td>5.140</td>\n      <td>2.795</td>\n      <td>4.325</td>\n      <td>5.003</td>\n      <td>3</td>\n    </tr>\n    <tr>\n      <th>208</th>\n      <td>13.20</td>\n      <td>13.66</td>\n      <td>0.8883</td>\n      <td>5.236</td>\n      <td>3.232</td>\n      <td>8.315</td>\n      <td>5.056</td>\n      <td>3</td>\n    </tr>\n    <tr>\n      <th>209</th>\n      <td>11.84</td>\n      <td>13.21</td>\n      <td>0.8521</td>\n      <td>5.175</td>\n      <td>2.836</td>\n      <td>3.598</td>\n      <td>5.044</td>\n      <td>3</td>\n    </tr>\n    <tr>\n      <th>210</th>\n      <td>12.30</td>\n      <td>13.34</td>\n      <td>0.8684</td>\n      <td>5.243</td>\n      <td>2.974</td>\n      <td>5.637</td>\n      <td>5.063</td>\n      <td>3</td>\n    </tr>\n  </tbody>\n</table>\n<p>210 rows × 8 columns</p>\n</div>"
     },
     "metadata": {},
     "execution_count": 4
    }
   ],
   "source": [
    "col_names=['Area','Perimeter','Compactness','Length of kernel','Width of kernel','Asymmetry coefficient','Length of kernel groove','Variety of wheat']\n",
    "df=pd.read_csv('seed.csv', names=col_names)\n",
    "df"
   ]
  },
  {
   "cell_type": "code",
   "execution_count": 5,
   "id": "superior-storage",
   "metadata": {},
   "outputs": [],
   "source": [
    "X=np.array(df.drop(['Variety of wheat'],1))\n",
    "y=np.array(df['Variety of wheat'])"
   ]
  },
  {
   "cell_type": "code",
   "execution_count": 6,
   "id": "modular-proxy",
   "metadata": {},
   "outputs": [],
   "source": [
    "X_train, X_test, y_train, y_test = train_test_split(X, y, test_size=0.3, random_state=0)"
   ]
  },
  {
   "cell_type": "code",
   "execution_count": 7,
   "id": "irish-drinking",
   "metadata": {},
   "outputs": [
    {
     "output_type": "execute_result",
     "data": {
      "text/plain": [
       "array([[-1.18859631, -1.4165965 ,  0.611144  , ..., -0.96114168,\n",
       "        -0.94679741, -1.37730754],\n",
       "       [ 0.10231379,  0.20001804, -0.20796739, ...,  0.01237661,\n",
       "        -1.26075807, -0.77564884],\n",
       "       [-0.52948083, -0.51341749, -0.1855873 , ..., -0.70579262,\n",
       "        -1.87547727, -0.66460445],\n",
       "       ...,\n",
       "       [ 1.51616771,  1.48268403,  0.83494492, ...,  1.52851166,\n",
       "        -0.41148792,  1.61483403],\n",
       "       [ 0.09548358,  0.04822324,  0.80361279, ...,  0.36348157,\n",
       "        -0.49424742, -0.42434477],\n",
       "       [-1.17493588, -1.15854535, -1.2732598 , ..., -1.26968847,\n",
       "         0.39311837, -0.77766783]])"
      ]
     },
     "metadata": {},
     "execution_count": 7
    }
   ],
   "source": [
    "#Standard scaler performs the task of standardisation\n",
    "#Usually data contains variables which are on different scales\n",
    "scaler = preprocessing.StandardScaler().fit(X_train)\n",
    "X_train_transformed = scaler.transform(X_train)\n",
    "X_train_transformed"
   ]
  },
  {
   "cell_type": "code",
   "execution_count": 12,
   "id": "isolated-convenience",
   "metadata": {},
   "outputs": [],
   "source": [
    "X_test_transformed= scaler.transform(X_test)"
   ]
  },
  {
   "cell_type": "code",
   "execution_count": 13,
   "id": "daily-nigeria",
   "metadata": {},
   "outputs": [],
   "source": [
    "clf = svm.SVC(C=1)"
   ]
  },
  {
   "cell_type": "code",
   "execution_count": 14,
   "id": "arbitrary-firewall",
   "metadata": {},
   "outputs": [
    {
     "output_type": "execute_result",
     "data": {
      "text/plain": [
       "SVC(C=1)"
      ]
     },
     "metadata": {},
     "execution_count": 14
    }
   ],
   "source": [
    "clf.fit(X_train_transformed, y_train)"
   ]
  },
  {
   "cell_type": "code",
   "execution_count": 15,
   "id": "balanced-shower",
   "metadata": {},
   "outputs": [
    {
     "output_type": "execute_result",
     "data": {
      "text/plain": [
       "0.9206349206349206"
      ]
     },
     "metadata": {},
     "execution_count": 15
    }
   ],
   "source": [
    "confidence = clf.score(X_test_transformed, y_test)\n",
    "confidence"
   ]
  },
  {
   "cell_type": "code",
   "execution_count": 16,
   "id": "critical-exhaust",
   "metadata": {},
   "outputs": [
    {
     "output_type": "execute_result",
     "data": {
      "text/plain": [
       "array([1], dtype=int64)"
      ]
     },
     "metadata": {},
     "execution_count": 16
    }
   ],
   "source": [
    "example_measures = np.array([[12.5,13.5,0.9,5.5,2.5,2.7,5]])\n",
    "example_measures = example_measures.reshape(len(example_measures),-1)\n",
    "prediction = clf.predict(example_measures)\n",
    "prediction"
   ]
  }
 ],
 "metadata": {
  "kernelspec": {
   "display_name": "Python 3",
   "language": "python",
   "name": "python3"
  },
  "language_info": {
   "codemirror_mode": {
    "name": "ipython",
    "version": 3
   },
   "file_extension": ".py",
   "mimetype": "text/x-python",
   "name": "python",
   "nbconvert_exporter": "python",
   "pygments_lexer": "ipython3",
   "version": "3.8.7-final"
  }
 },
 "nbformat": 4,
 "nbformat_minor": 5
}